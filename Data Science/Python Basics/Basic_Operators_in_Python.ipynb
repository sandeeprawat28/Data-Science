{
  "nbformat": 4,
  "nbformat_minor": 0,
  "metadata": {
    "colab": {
      "name": "Basic Operators in Python.ipynb",
      "provenance": []
    },
    "kernelspec": {
      "name": "python3",
      "display_name": "Python 3"
    },
    "language_info": {
      "name": "python"
    }
  },
  "cells": [
    {
      "cell_type": "markdown",
      "metadata": {
        "id": "08EqHM2lauQY"
      },
      "source": [
        "Python Basic Operators:-\n"
      ]
    },
    {
      "cell_type": "markdown",
      "metadata": {
        "id": "hN8PsmiTc1Nu"
      },
      "source": [
        "1. Arithmetic Operators"
      ]
    },
    {
      "cell_type": "code",
      "metadata": {
        "colab": {
          "base_uri": "https://localhost:8080/"
        },
        "id": "hE8-k2rxaadC",
        "outputId": "31176309-530f-41dd-f792-7e7d73af1fe5"
      },
      "source": [
        "# 1. Arithmetic Operators\n",
        "\n",
        "x = 5\n",
        "y = 2\n",
        "\n",
        "print(x+y)  # Addition\n",
        "print(x-y)  # Subtraction\n",
        "print(x*y)  # Multiplication\n",
        "print(x/y)  # Division\n",
        "print(x//y)  # Floor Division for integer value\n",
        "print(x%y)   # Modulus\n",
        "print(x**y)  #Exponential "
      ],
      "execution_count": 4,
      "outputs": [
        {
          "output_type": "stream",
          "name": "stdout",
          "text": [
            "7\n",
            "3\n",
            "10\n",
            "2.5\n",
            "2\n",
            "1\n",
            "25\n"
          ]
        }
      ]
    },
    {
      "cell_type": "markdown",
      "metadata": {
        "id": "H8lRZ6hac4Bk"
      },
      "source": [
        "2. Assignment Operators"
      ]
    },
    {
      "cell_type": "code",
      "metadata": {
        "colab": {
          "base_uri": "https://localhost:8080/"
        },
        "id": "v31h0ACndIKs",
        "outputId": "9b2c5969-a82c-45dc-a023-b593d27d9567"
      },
      "source": [
        "# 2. Assignment Operators\n",
        "\n",
        "a = 5 \n",
        "a += 4  # a = a + 4\n",
        "\n",
        "b = 8\n",
        "b -= 4  # b = b - 4\n",
        "\n",
        "c = 4\n",
        "c *= 6  # c = c * 6\n",
        "\n",
        "d = 10\n",
        "d /= 2  # d = d / 2\n",
        "\n",
        "print(a)\n",
        "print(b)\n",
        "print(c)\n",
        "print(d)"
      ],
      "execution_count": 11,
      "outputs": [
        {
          "output_type": "stream",
          "name": "stdout",
          "text": [
            "9\n",
            "4\n",
            "24\n",
            "5.0\n"
          ]
        }
      ]
    },
    {
      "cell_type": "markdown",
      "metadata": {
        "id": "IqXkY6g7ewUR"
      },
      "source": [
        "3. Comparison Operators"
      ]
    },
    {
      "cell_type": "code",
      "metadata": {
        "colab": {
          "base_uri": "https://localhost:8080/"
        },
        "id": "aOHR2EBzfJXl",
        "outputId": "17e183e7-eba1-42d4-dba2-51c7597bf0aa"
      },
      "source": [
        "x = 8 \n",
        "y = 16\n",
        "\n",
        "print(x==y)\n",
        "print(x != y)\n",
        "print(x > y)\n",
        "print(x < y)\n",
        "print(x <= y)\n",
        "print(x >= y)"
      ],
      "execution_count": 15,
      "outputs": [
        {
          "output_type": "stream",
          "name": "stdout",
          "text": [
            "False\n",
            "True\n",
            "False\n",
            "True\n",
            "True\n",
            "False\n"
          ]
        }
      ]
    }
  ]
}