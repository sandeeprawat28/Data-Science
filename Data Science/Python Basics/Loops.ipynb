{
  "nbformat": 4,
  "nbformat_minor": 0,
  "metadata": {
    "colab": {
      "name": "Loops.ipynb",
      "provenance": []
    },
    "kernelspec": {
      "name": "python3",
      "display_name": "Python 3"
    },
    "language_info": {
      "name": "python"
    }
  },
  "cells": [
    {
      "cell_type": "code",
      "metadata": {
        "id": "eTeueJBFeW5b",
        "colab": {
          "base_uri": "https://localhost:8080/"
        },
        "outputId": "7d1f2c56-8835-4e82-ffe7-36e7b01cbd64"
      },
      "source": [
        "# for loop\n",
        "\n",
        "for i in range(3):\n",
        "  print('Python is very powerfull language.')"
      ],
      "execution_count": 23,
      "outputs": [
        {
          "output_type": "stream",
          "name": "stdout",
          "text": [
            "Python is very powerfull language.\n",
            "Python is very powerfull language.\n",
            "Python is very powerfull language.\n"
          ]
        }
      ]
    },
    {
      "cell_type": "code",
      "metadata": {
        "colab": {
          "base_uri": "https://localhost:8080/"
        },
        "id": "YqLpcFFhUzfO",
        "outputId": "306c7611-f922-4f39-ea7f-b200f1d9d4e0"
      },
      "source": [
        "names = ['Ravi','Rahul','Gauri','Sandeep','Amit']\n",
        "for i in names:\n",
        "  print(i)"
      ],
      "execution_count": 24,
      "outputs": [
        {
          "output_type": "stream",
          "name": "stdout",
          "text": [
            "Ravi\n",
            "Rahul\n",
            "Gauri\n",
            "Sandeep\n",
            "Amit\n"
          ]
        }
      ]
    },
    {
      "cell_type": "code",
      "metadata": {
        "colab": {
          "base_uri": "https://localhost:8080/"
        },
        "id": "p3Pg8RjtVa-_",
        "outputId": "cec090f6-4b28-4592-d0f7-24d0f3c1fc68"
      },
      "source": [
        "list = [2,8,6,3,4,9,10]\n",
        "list_1 = []  # empty list\n",
        "\n",
        "for i in list:\n",
        "  j = i*2\n",
        "  list_1.append(j) # add j elements in list_1\n",
        "  \n",
        "print(list_1)"
      ],
      "execution_count": 26,
      "outputs": [
        {
          "output_type": "stream",
          "name": "stdout",
          "text": [
            "[4, 16, 12, 6, 8, 18, 20]\n"
          ]
        }
      ]
    },
    {
      "cell_type": "code",
      "metadata": {
        "colab": {
          "base_uri": "https://localhost:8080/"
        },
        "id": "JqzYvc1UROM7",
        "outputId": "6808f482-6bf7-459b-f94f-5025e4c202f9"
      },
      "source": [
        "# while loop\n",
        "\n",
        "i = 0\n",
        "sum = 0\n",
        "\n",
        "while sum < 100:\n",
        "  sum += i\n",
        "  i += 10\n",
        "\n",
        "print(sum)"
      ],
      "execution_count": 29,
      "outputs": [
        {
          "output_type": "stream",
          "name": "stdout",
          "text": [
            "100\n"
          ]
        }
      ]
    }
  ]
}