{
  "nbformat": 4,
  "nbformat_minor": 0,
  "metadata": {
    "colab": {
      "name": "Special Data Types.ipynb",
      "provenance": []
    },
    "kernelspec": {
      "name": "python3",
      "display_name": "Python 3"
    },
    "language_info": {
      "name": "python"
    }
  },
  "cells": [
    {
      "cell_type": "markdown",
      "metadata": {
        "id": "nbjMgc7lknIb"
      },
      "source": [
        "Special Data Types:-\n"
      ]
    },
    {
      "cell_type": "markdown",
      "metadata": {
        "id": "8AE6ks6hku9J"
      },
      "source": [
        "1. List"
      ]
    },
    {
      "cell_type": "code",
      "metadata": {
        "colab": {
          "base_uri": "https://localhost:8080/"
        },
        "id": "Kh4hCEyJh8RB",
        "outputId": "007dfa4f-7fd8-434e-9ab4-d2af5abb4fb5"
      },
      "source": [
        "# 1. List\n",
        "\n",
        "list_1 = [2,4,2,5,10]  # list should be enclosed in square brackets\n",
        "list_2 = [2,8,9,'Ravi','Rahul','Sandeep']\n",
        "\n",
        "print(list_1)\n",
        "print(list_2)\n",
        "print(list_1[2])  # access a particular element from a list\n",
        "print(list_2[2:8]) \n",
        "list_1.append('Rohit')  # add a particular element to a list\n",
        "print(list_1)\n",
        "del list_1[2]  # delete a particular element from a list\n",
        "print(list_1)\n",
        "list_3 = list_1 + list_2  # add two list\n",
        "print(list_3)\n",
        "print(len(list_3))  # print the no. of the element from a list\n",
        "list_4 = [7]*2  # get multiple element in the list\n",
        "print(list_4)\n",
        "type(list_2)"
      ],
      "execution_count": null,
      "outputs": [
        {
          "output_type": "stream",
          "name": "stdout",
          "text": [
            "[2, 4, 2, 5, 10]\n",
            "[2, 8, 9, 'Ravi', 'Rahul', 'Sandeep']\n",
            "2\n",
            "[9, 'Ravi', 'Rahul', 'Sandeep']\n",
            "[2, 4, 2, 5, 10, 'Rohit']\n",
            "[2, 4, 5, 10, 'Rohit']\n",
            "[2, 4, 5, 10, 'Rohit', 2, 8, 9, 'Ravi', 'Rahul', 'Sandeep']\n",
            "11\n",
            "[7, 7]\n"
          ]
        },
        {
          "output_type": "execute_result",
          "data": {
            "text/plain": [
              "list"
            ]
          },
          "metadata": {},
          "execution_count": 15
        }
      ]
    },
    {
      "cell_type": "markdown",
      "metadata": {
        "id": "4fjI9K4xsIbW"
      },
      "source": [
        "2. Tuple"
      ]
    },
    {
      "cell_type": "code",
      "metadata": {
        "id": "WEB1zTJ6saOF",
        "colab": {
          "base_uri": "https://localhost:8080/"
        },
        "outputId": "bd04ff43-c053-4ddc-856a-77de540d996a"
      },
      "source": [
        "empty_tuple = ()  # tuples should be enclosed in parenthesis\n",
        "print(empty_tuple)"
      ],
      "execution_count": 1,
      "outputs": [
        {
          "output_type": "stream",
          "name": "stdout",
          "text": [
            "()\n"
          ]
        }
      ]
    },
    {
      "cell_type": "code",
      "metadata": {
        "colab": {
          "base_uri": "https://localhost:8080/"
        },
        "id": "MSdmt5A8YAXq",
        "outputId": "a24f3e94-9025-4eb8-d3ab-5b0fb4a63d0c"
      },
      "source": [
        "tuple_1 = (5,8,7,6,'hello')\n",
        "print(tuple_1)\n",
        "type(tuple_1)"
      ],
      "execution_count": 2,
      "outputs": [
        {
          "output_type": "stream",
          "name": "stdout",
          "text": [
            "(5, 8, 7, 6, 'hello')\n"
          ]
        },
        {
          "output_type": "execute_result",
          "data": {
            "text/plain": [
              "tuple"
            ]
          },
          "metadata": {},
          "execution_count": 2
        }
      ]
    },
    {
      "cell_type": "code",
      "metadata": {
        "colab": {
          "base_uri": "https://localhost:8080/"
        },
        "id": "5_fGiHqNYUaf",
        "outputId": "63a89175-2ed8-458c-a176-a0e915271cdd"
      },
      "source": [
        "mylist = (4,8,6,9,'Hey')  #convert mylist into tuple\n",
        "tup = tuple(mylist)\n",
        "print(tup)\n",
        "type(tup)"
      ],
      "execution_count": 3,
      "outputs": [
        {
          "output_type": "stream",
          "name": "stdout",
          "text": [
            "(4, 8, 6, 9, 'Hey')\n"
          ]
        },
        {
          "output_type": "execute_result",
          "data": {
            "text/plain": [
              "tuple"
            ]
          },
          "metadata": {},
          "execution_count": 3
        }
      ]
    },
    {
      "cell_type": "code",
      "metadata": {
        "colab": {
          "base_uri": "https://localhost:8080/"
        },
        "id": "xQJccsSRY2HD",
        "outputId": "07b1a31d-06f0-4888-c459-2cc047366169"
      },
      "source": [
        "tuple_1 = ('ravi','rahul','rohit','sandeep','amit')\n",
        "print(len(tuple_1))\n",
        "type(tuple_1)"
      ],
      "execution_count": 7,
      "outputs": [
        {
          "output_type": "stream",
          "name": "stdout",
          "text": [
            "5\n"
          ]
        },
        {
          "output_type": "execute_result",
          "data": {
            "text/plain": [
              "tuple"
            ]
          },
          "metadata": {},
          "execution_count": 7
        }
      ]
    },
    {
      "cell_type": "markdown",
      "metadata": {
        "id": "cUfQszmhsbnW"
      },
      "source": [
        "3. Set"
      ]
    },
    {
      "cell_type": "code",
      "metadata": {
        "id": "dhy1Zbfqseok",
        "colab": {
          "base_uri": "https://localhost:8080/"
        },
        "outputId": "71de0200-422e-4a9e-de5b-c977b7b4c3f5"
      },
      "source": [
        "mylist = [5,8,1,0,3,3,9.5,'monday','friday']  # set removed duplicate elements and also arrenge elements in ascending order\n",
        "myset = set(mylist)\n",
        "print(myset)   \n",
        "type(myset)"
      ],
      "execution_count": 10,
      "outputs": [
        {
          "output_type": "stream",
          "name": "stdout",
          "text": [
            "{0, 1, 3, 5, 8, 9.5, 'monday', 'friday'}\n"
          ]
        },
        {
          "output_type": "execute_result",
          "data": {
            "text/plain": [
              "set"
            ]
          },
          "metadata": {},
          "execution_count": 10
        }
      ]
    },
    {
      "cell_type": "code",
      "metadata": {
        "id": "fT8iFR29bmyo",
        "outputId": "63ca24ea-e36a-44ad-85d4-14279f82723e",
        "colab": {
          "base_uri": "https://localhost:8080/"
        }
      },
      "source": [
        "set_1 = {1,5,8,9,2,7}  # set should be enclosed in curly braces\n",
        "set_2 = {2,8,7,9,6}  #  set does not have index\n",
        "\n",
        "union_set = set_1|set_2\n",
        "intersection_set = set_1&set_2\n",
        "print(union_set)\n",
        "print(intersection_set)"
      ],
      "execution_count": 11,
      "outputs": [
        {
          "output_type": "stream",
          "name": "stdout",
          "text": [
            "{1, 2, 5, 6, 7, 8, 9}\n",
            "{8, 9, 2, 7}\n"
          ]
        }
      ]
    },
    {
      "cell_type": "markdown",
      "metadata": {
        "id": "RbovnO3YsfDO"
      },
      "source": [
        "4. Dictionary"
      ]
    },
    {
      "cell_type": "code",
      "metadata": {
        "id": "909tXVF4sipk",
        "colab": {
          "base_uri": "https://localhost:8080/"
        },
        "outputId": "d1380e13-6d9a-4aa5-a2c8-80ecb9fe6a7e"
      },
      "source": [
        "info = {'name':'rahul','age':'21','work':'softwate developer'}\n",
        "print(info)\n",
        "info['name'] = 'Sandeep'  # change name \n",
        "print(info)\n",
        "print(info['age'])\n",
        "type(info)"
      ],
      "execution_count": 19,
      "outputs": [
        {
          "output_type": "stream",
          "name": "stdout",
          "text": [
            "{'name': 'rahul', 'age': '21', 'work': 'softwate developer'}\n",
            "{'name': 'Sandeep', 'age': '21', 'work': 'softwate developer'}\n",
            "21\n"
          ]
        },
        {
          "output_type": "execute_result",
          "data": {
            "text/plain": [
              "dict"
            ]
          },
          "metadata": {},
          "execution_count": 19
        }
      ]
    }
  ]
}