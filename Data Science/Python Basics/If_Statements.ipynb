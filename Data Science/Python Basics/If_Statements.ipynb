{
  "nbformat": 4,
  "nbformat_minor": 0,
  "metadata": {
    "colab": {
      "name": "If Statements.ipynb",
      "provenance": []
    },
    "kernelspec": {
      "name": "python3",
      "display_name": "Python 3"
    },
    "language_info": {
      "name": "python"
    }
  },
  "cells": [
    {
      "cell_type": "code",
      "metadata": {
        "id": "eTeueJBFeW5b",
        "colab": {
          "base_uri": "https://localhost:8080/"
        },
        "outputId": "af6c3bf3-3b64-4c49-aa45-0b6c0bcbca70"
      },
      "source": [
        "# if else statement\n",
        "\n",
        "a = 2\n",
        "b = 3\n",
        "\n",
        "if(a > b):\n",
        "  print('a is greater than b')\n",
        "else:\n",
        "    print('a is less than b')"
      ],
      "execution_count": 2,
      "outputs": [
        {
          "output_type": "stream",
          "name": "stdout",
          "text": [
            "a is less than b\n"
          ]
        }
      ]
    },
    {
      "cell_type": "code",
      "metadata": {
        "colab": {
          "base_uri": "https://localhost:8080/"
        },
        "id": "JqzYvc1UROM7",
        "outputId": "287d5a20-482c-4ff3-870e-54d3b8333e07"
      },
      "source": [
        "# if elif else statement\n",
        "\n",
        "a = 10\n",
        "b = 50 \n",
        "c = 45\n",
        "\n",
        "if(a > b and a > c):\n",
        "  print('a is the greatest number')\n",
        "elif(b > a and b > c):\n",
        "  print('b is the greatest number')\n",
        "else:\n",
        "  print('c is the greatest number')"
      ],
      "execution_count": 4,
      "outputs": [
        {
          "output_type": "stream",
          "name": "stdout",
          "text": [
            "b is the greatest number\n"
          ]
        }
      ]
    },
    {
      "cell_type": "code",
      "metadata": {
        "colab": {
          "base_uri": "https://localhost:8080/"
        },
        "id": "ngZHZiBNSBpa",
        "outputId": "335bef75-6b60-41ba-c6de-3ba722920987"
      },
      "source": [
        "# nested if statements\n",
        "\n",
        "a = 200 \n",
        "b = 450 \n",
        "c = 380\n",
        "\n",
        "if(a > b):\n",
        "  if(a > c):\n",
        "    print('a is the greatest number')\n",
        "  else:\n",
        "    print('c is the greatest number')\n",
        "else:\n",
        "  if(b > c):\n",
        "    print('b is the greatest number')\n",
        "  else:\n",
        "    print('c is the greatest number')"
      ],
      "execution_count": 16,
      "outputs": [
        {
          "output_type": "stream",
          "name": "stdout",
          "text": [
            "b is the greatest number\n"
          ]
        }
      ]
    }
  ]
}