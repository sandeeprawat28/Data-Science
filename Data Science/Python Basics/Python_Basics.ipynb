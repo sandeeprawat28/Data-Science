{
  "nbformat": 4,
  "nbformat_minor": 0,
  "metadata": {
    "colab": {
      "name": "Python Basics.ipynb",
      "provenance": []
    },
    "kernelspec": {
      "name": "python3",
      "display_name": "Python 3"
    },
    "language_info": {
      "name": "python"
    }
  },
  "cells": [
    {
      "cell_type": "markdown",
      "metadata": {
        "id": "M5nhEnAmSstW"
      },
      "source": [
        "Data Types in Python"
      ]
    },
    {
      "cell_type": "code",
      "metadata": {
        "colab": {
          "base_uri": "https://localhost:8080/"
        },
        "id": "WDLKg59BSyiw",
        "outputId": "543dd60b-eca3-4f7d-9c10-3c3ffc26dac5"
      },
      "source": [
        "# Integer\n",
        "\n",
        "a = 10\n",
        "\n",
        "print(a)\n",
        "type(a)"
      ],
      "execution_count": 1,
      "outputs": [
        {
          "output_type": "stream",
          "name": "stdout",
          "text": [
            "10\n"
          ]
        },
        {
          "output_type": "execute_result",
          "data": {
            "text/plain": [
              "int"
            ]
          },
          "metadata": {},
          "execution_count": 1
        }
      ]
    },
    {
      "cell_type": "code",
      "metadata": {
        "colab": {
          "base_uri": "https://localhost:8080/"
        },
        "id": "D_doZco6TEzR",
        "outputId": "77e52c33-88f7-40f3-8189-7493085d699a"
      },
      "source": [
        "# String\n",
        "\n",
        "name = 'Sandeep Rawat'  # enclose in single quotes or double qoutes\n",
        "\n",
        "print(name)\n",
        "type(name)"
      ],
      "execution_count": 2,
      "outputs": [
        {
          "output_type": "stream",
          "name": "stdout",
          "text": [
            "Sandeep Rawat\n"
          ]
        },
        {
          "output_type": "execute_result",
          "data": {
            "text/plain": [
              "str"
            ]
          },
          "metadata": {},
          "execution_count": 2
        }
      ]
    },
    {
      "cell_type": "code",
      "metadata": {
        "colab": {
          "base_uri": "https://localhost:8080/"
        },
        "id": "uTAsKpmPT6Pg",
        "outputId": "16a9ef85-8d2b-4f2b-f264-6783e1b76db3"
      },
      "source": [
        "# Float\n",
        "\n",
        "b = 12.63\n",
        "\n",
        "print(b)\n",
        "type(b)"
      ],
      "execution_count": 3,
      "outputs": [
        {
          "output_type": "stream",
          "name": "stdout",
          "text": [
            "12.63\n"
          ]
        },
        {
          "output_type": "execute_result",
          "data": {
            "text/plain": [
              "float"
            ]
          },
          "metadata": {},
          "execution_count": 3
        }
      ]
    },
    {
      "cell_type": "code",
      "metadata": {
        "colab": {
          "base_uri": "https://localhost:8080/"
        },
        "id": "cGv7ciMoULVh",
        "outputId": "3b87fdac-065f-4784-e9ba-864517c21f0a"
      },
      "source": [
        "# Complex\n",
        "\n",
        "x = 8j + 2j\n",
        "\n",
        "print(x)\n",
        "type(x)"
      ],
      "execution_count": 4,
      "outputs": [
        {
          "output_type": "stream",
          "name": "stdout",
          "text": [
            "10j\n"
          ]
        },
        {
          "output_type": "execute_result",
          "data": {
            "text/plain": [
              "complex"
            ]
          },
          "metadata": {},
          "execution_count": 4
        }
      ]
    },
    {
      "cell_type": "code",
      "metadata": {
        "colab": {
          "base_uri": "https://localhost:8080/"
        },
        "id": "43lHZIshUbPa",
        "outputId": "2b518039-36cb-4e1b-94bf-1aa98d7a36f4"
      },
      "source": [
        "# Boolean\n",
        "\n",
        "a = True\n",
        "b = False\n",
        "\n",
        "print(a)\n",
        "type(a)"
      ],
      "execution_count": 6,
      "outputs": [
        {
          "output_type": "stream",
          "name": "stdout",
          "text": [
            "True\n"
          ]
        },
        {
          "output_type": "execute_result",
          "data": {
            "text/plain": [
              "bool"
            ]
          },
          "metadata": {},
          "execution_count": 6
        }
      ]
    },
    {
      "cell_type": "markdown",
      "metadata": {
        "id": "ab415VwnVFQg"
      },
      "source": [
        "Converting data type to another\n"
      ]
    },
    {
      "cell_type": "code",
      "metadata": {
        "colab": {
          "base_uri": "https://localhost:8080/"
        },
        "id": "Sz0LE2vIVOlF",
        "outputId": "2aafd962-9ff1-4ed8-9d75-2397240dd643"
      },
      "source": [
        "# float to integer\n",
        "\n",
        "a = 25.36  # float\n",
        "\n",
        "b = int(a)\n",
        "print(b)  # convert a to integer\n",
        "type(b)"
      ],
      "execution_count": 7,
      "outputs": [
        {
          "output_type": "stream",
          "name": "stdout",
          "text": [
            "25\n"
          ]
        },
        {
          "output_type": "execute_result",
          "data": {
            "text/plain": [
              "int"
            ]
          },
          "metadata": {},
          "execution_count": 7
        }
      ]
    },
    {
      "cell_type": "code",
      "metadata": {
        "colab": {
          "base_uri": "https://localhost:8080/"
        },
        "id": "_U8HN6xTV0VI",
        "outputId": "963557ad-2cf1-4d85-b548-b2157684b343"
      },
      "source": [
        "# integer to float\n",
        "\n",
        "b = 25  # int\n",
        "\n",
        "a = float(b)  # convert b to float\n",
        "print(a)\n",
        "type(a)"
      ],
      "execution_count": 8,
      "outputs": [
        {
          "output_type": "stream",
          "name": "stdout",
          "text": [
            "25.0\n"
          ]
        },
        {
          "output_type": "execute_result",
          "data": {
            "text/plain": [
              "float"
            ]
          },
          "metadata": {},
          "execution_count": 8
        }
      ]
    },
    {
      "cell_type": "code",
      "metadata": {
        "colab": {
          "base_uri": "https://localhost:8080/"
        },
        "id": "pk9sYDX3WYt_",
        "outputId": "394538a6-2fc2-4242-cea7-3701da1cfe14"
      },
      "source": [
        "# integer to string\n",
        "\n",
        "a = 10\n",
        "\n",
        "b = str(a)\n",
        "print(b)\n",
        "type(b)"
      ],
      "execution_count": 9,
      "outputs": [
        {
          "output_type": "stream",
          "name": "stdout",
          "text": [
            "10\n"
          ]
        },
        {
          "output_type": "execute_result",
          "data": {
            "text/plain": [
              "str"
            ]
          },
          "metadata": {},
          "execution_count": 9
        }
      ]
    }
  ]
}