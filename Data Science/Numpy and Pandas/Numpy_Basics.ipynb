{
  "nbformat": 4,
  "nbformat_minor": 0,
  "metadata": {
    "colab": {
      "name": "Numpy Basics.ipynb",
      "provenance": []
    },
    "kernelspec": {
      "name": "python3",
      "display_name": "Python 3"
    },
    "language_info": {
      "name": "python"
    }
  },
  "cells": [
    {
      "cell_type": "markdown",
      "metadata": {
        "id": "QzCHKwx7YrUv"
      },
      "source": [
        "Numpy - Numerical Python"
      ]
    },
    {
      "cell_type": "code",
      "metadata": {
        "colab": {
          "base_uri": "https://localhost:8080/"
        },
        "id": "mxamjVyAYmZi",
        "outputId": "587f3e28-3fc4-4789-ebbf-33da2fcd7b63"
      },
      "source": [
        "# convert list to numpy array\n",
        "\n",
        "import numpy as np\n",
        "\n",
        "a = [8,6,2,4,7,3]\n",
        "a = np.asarray(a)\n",
        "\n",
        "print(a)\n",
        "type(a)"
      ],
      "execution_count": 2,
      "outputs": [
        {
          "output_type": "stream",
          "name": "stdout",
          "text": [
            "[8 6 2 4 7 3]\n"
          ]
        },
        {
          "output_type": "execute_result",
          "data": {
            "text/plain": [
              "numpy.ndarray"
            ]
          },
          "metadata": {},
          "execution_count": 2
        }
      ]
    },
    {
      "cell_type": "code",
      "metadata": {
        "colab": {
          "base_uri": "https://localhost:8080/"
        },
        "id": "FvQIQ8pxZiFc",
        "outputId": "40ad86ec-9b87-4227-b7ef-84a15d8ddaeb"
      },
      "source": [
        "# convert set to numpy array\n",
        "\n",
        "import numpy as np\n",
        "\n",
        "a = {2,8,6,3,8,9,10}\n",
        "a = np.asarray(a)\n",
        "\n",
        "print(a)\n",
        "type(a)"
      ],
      "execution_count": 3,
      "outputs": [
        {
          "output_type": "stream",
          "name": "stdout",
          "text": [
            "{2, 3, 6, 8, 9, 10}\n"
          ]
        },
        {
          "output_type": "execute_result",
          "data": {
            "text/plain": [
              "numpy.ndarray"
            ]
          },
          "metadata": {},
          "execution_count": 3
        }
      ]
    },
    {
      "cell_type": "code",
      "metadata": {
        "colab": {
          "base_uri": "https://localhost:8080/"
        },
        "id": "H7mHhMXiZ7jG",
        "outputId": "f33d8ee7-c758-451e-b61e-0c4c7cef87f3"
      },
      "source": [
        "# creating numpy array\n",
        "\n",
        "x = np.array([10,20,53,6,52,51,7,5,2])\n",
        "\n",
        "print(x)\n",
        "print(x[2])\n",
        "x[2] = 26 # replace a value\n",
        "print(x)\n",
        "type(x)"
      ],
      "execution_count": 6,
      "outputs": [
        {
          "output_type": "stream",
          "name": "stdout",
          "text": [
            "[10 20 53  6 52 51  7  5  2]\n",
            "53\n",
            "[10 20 26  6 52 51  7  5  2]\n"
          ]
        },
        {
          "output_type": "execute_result",
          "data": {
            "text/plain": [
              "numpy.ndarray"
            ]
          },
          "metadata": {},
          "execution_count": 6
        }
      ]
    },
    {
      "cell_type": "code",
      "metadata": {
        "colab": {
          "base_uri": "https://localhost:8080/"
        },
        "id": "c8sCDtBca-nB",
        "outputId": "6b7658bb-8cbc-4ccf-cbf1-e7882ccaab92"
      },
      "source": [
        "# get multiple row and column\n",
        "\n",
        "y = np.array([[1,2,3,4],[5,6,7,8]])\n",
        "print(y)\n",
        "type(y)"
      ],
      "execution_count": 7,
      "outputs": [
        {
          "output_type": "stream",
          "name": "stdout",
          "text": [
            "[[1 2 3 4]\n",
            " [5 6 7 8]]\n"
          ]
        },
        {
          "output_type": "execute_result",
          "data": {
            "text/plain": [
              "numpy.ndarray"
            ]
          },
          "metadata": {},
          "execution_count": 7
        }
      ]
    },
    {
      "cell_type": "code",
      "metadata": {
        "colab": {
          "base_uri": "https://localhost:8080/"
        },
        "id": "Hd4nWze6bS8k",
        "outputId": "34e8661e-5181-413a-9ff2-8521c4586402"
      },
      "source": [
        "# shape of the array\n",
        "\n",
        "y = np.array([[1,2,3],[5,6,7]])\n",
        "print(y.shape)"
      ],
      "execution_count": 9,
      "outputs": [
        {
          "output_type": "stream",
          "name": "stdout",
          "text": [
            "(2, 3)\n"
          ]
        }
      ]
    },
    {
      "cell_type": "code",
      "metadata": {
        "colab": {
          "base_uri": "https://localhost:8080/"
        },
        "id": "CoXBkyecbxeA",
        "outputId": "7e27981a-a4a1-4e81-9e6f-bfbf2e49c64b"
      },
      "source": [
        "# create a null matrix\n",
        "\n",
        "null = np.zeros((2,5))\n",
        "print(null)\n",
        "print(null.shape)"
      ],
      "execution_count": 11,
      "outputs": [
        {
          "output_type": "stream",
          "name": "stdout",
          "text": [
            "[[0. 0. 0. 0. 0.]\n",
            " [0. 0. 0. 0. 0.]]\n",
            "(2, 5)\n"
          ]
        }
      ]
    },
    {
      "cell_type": "code",
      "metadata": {
        "colab": {
          "base_uri": "https://localhost:8080/"
        },
        "id": "EQjjWhA6cDuP",
        "outputId": "fed30275-6cb7-45bf-ca0a-1381132cc003"
      },
      "source": [
        "# identity matrix\n",
        "\n",
        "identity = np.eye(4,4)\n",
        "print(identity)"
      ],
      "execution_count": 14,
      "outputs": [
        {
          "output_type": "stream",
          "name": "stdout",
          "text": [
            "[[1. 0. 0. 0.]\n",
            " [0. 1. 0. 0.]\n",
            " [0. 0. 1. 0.]\n",
            " [0. 0. 0. 1.]]\n"
          ]
        }
      ]
    },
    {
      "cell_type": "code",
      "metadata": {
        "colab": {
          "base_uri": "https://localhost:8080/"
        },
        "id": "H8e6PjGZcWYC",
        "outputId": "bd370979-ccfc-47d9-ab3b-b9ffc4eb05ec"
      },
      "source": [
        "# array of all elements as 1\n",
        "\n",
        "one = np.ones((2,3))\n",
        "print(one)"
      ],
      "execution_count": 15,
      "outputs": [
        {
          "output_type": "stream",
          "name": "stdout",
          "text": [
            "[[1. 1. 1.]\n",
            " [1. 1. 1.]]\n"
          ]
        }
      ]
    },
    {
      "cell_type": "code",
      "metadata": {
        "colab": {
          "base_uri": "https://localhost:8080/"
        },
        "id": "wOQoTRBzclU_",
        "outputId": "fdcf7dbb-fa62-4bc8-ec87-1235dd7af42b"
      },
      "source": [
        "# array with an constant element\n",
        "\n",
        "constant = np.full((3,4),8)\n",
        "print(constant)\n",
        "print(constant.shape)"
      ],
      "execution_count": 21,
      "outputs": [
        {
          "output_type": "stream",
          "name": "stdout",
          "text": [
            "[[8 8 8 8]\n",
            " [8 8 8 8]\n",
            " [8 8 8 8]]\n",
            "(3, 4)\n"
          ]
        }
      ]
    },
    {
      "cell_type": "code",
      "metadata": {
        "colab": {
          "base_uri": "https://localhost:8080/"
        },
        "id": "7YsS6BladBhy",
        "outputId": "d53a58be-639b-4d8f-928e-bb45e71d9bf7"
      },
      "source": [
        "# create an array with random elements\n",
        "\n",
        "random_array = np.random.random((2,3))\n",
        "print(random_array)"
      ],
      "execution_count": 24,
      "outputs": [
        {
          "output_type": "stream",
          "name": "stdout",
          "text": [
            "[[0.54042822 0.98261698 0.61153507]\n",
            " [0.61346668 0.74224815 0.91884824]]\n"
          ]
        }
      ]
    },
    {
      "cell_type": "code",
      "metadata": {
        "colab": {
          "base_uri": "https://localhost:8080/"
        },
        "id": "ZMy2iaGNddfy",
        "outputId": "f465292b-af88-44a2-c492-59d5af542808"
      },
      "source": [
        "integer_random = np.random.randint(1,5,(3,3))  # random integer between 1 - 5\n",
        "print(integer_random)\n",
        "type(integer_random)"
      ],
      "execution_count": 27,
      "outputs": [
        {
          "output_type": "stream",
          "name": "stdout",
          "text": [
            "[[3 2 1]\n",
            " [2 2 3]\n",
            " [4 3 2]]\n"
          ]
        },
        {
          "output_type": "execute_result",
          "data": {
            "text/plain": [
              "numpy.ndarray"
            ]
          },
          "metadata": {},
          "execution_count": 27
        }
      ]
    },
    {
      "cell_type": "code",
      "metadata": {
        "colab": {
          "base_uri": "https://localhost:8080/"
        },
        "id": "WkF1cFXGeFmh",
        "outputId": "e8000c01-7007-46d0-853f-b7fcba595d0b"
      },
      "source": [
        "# transpose array\n",
        "\n",
        "array = np.random.randint(1,10,(2,3))\n",
        "print(array)\n",
        "\n",
        "transposed_array = array.T\n",
        "print(transposed_array)"
      ],
      "execution_count": 34,
      "outputs": [
        {
          "output_type": "stream",
          "name": "stdout",
          "text": [
            "[[4 8 3]\n",
            " [5 9 5]]\n",
            "[[4 5]\n",
            " [8 9]\n",
            " [3 5]]\n"
          ]
        }
      ]
    },
    {
      "cell_type": "code",
      "metadata": {
        "colab": {
          "base_uri": "https://localhost:8080/"
        },
        "id": "nOv8-XO1ezGp",
        "outputId": "dbe0e374-31d0-403d-d863-2a7dce20aa0d"
      },
      "source": [
        "# reshaping array\n",
        "\n",
        "array = np.random.random((3,4))\n",
        "print(array)\n",
        "\n",
        "reshaped_array = array.reshape(12,1)\n",
        "print(reshaped_array)"
      ],
      "execution_count": 42,
      "outputs": [
        {
          "output_type": "stream",
          "name": "stdout",
          "text": [
            "[[0.9336723  0.33735373 0.6341308  0.68719586]\n",
            " [0.26344779 0.04575413 0.81062975 0.03302233]\n",
            " [0.76554746 0.55855585 0.12496545 0.41773592]]\n",
            "[[0.9336723 ]\n",
            " [0.33735373]\n",
            " [0.6341308 ]\n",
            " [0.68719586]\n",
            " [0.26344779]\n",
            " [0.04575413]\n",
            " [0.81062975]\n",
            " [0.03302233]\n",
            " [0.76554746]\n",
            " [0.55855585]\n",
            " [0.12496545]\n",
            " [0.41773592]]\n"
          ]
        }
      ]
    },
    {
      "cell_type": "markdown",
      "metadata": {
        "id": "MzEia3fJh84H"
      },
      "source": [
        "Numpy array slicing\n",
        "\n",
        "Slicing -> taking elements from one index to another index"
      ]
    },
    {
      "cell_type": "code",
      "metadata": {
        "colab": {
          "base_uri": "https://localhost:8080/"
        },
        "id": "EKINEn7cf90f",
        "outputId": "e90eb247-916e-4731-aa01-1962ab33cf58"
      },
      "source": [
        "import numpy as np\n",
        "\n",
        "array = np.array([8,5,4,9,6,3])\n",
        "print(array[1:5])  # [start:end]"
      ],
      "execution_count": 47,
      "outputs": [
        {
          "output_type": "stream",
          "name": "stdout",
          "text": [
            "[5 4 9 6]\n"
          ]
        }
      ]
    },
    {
      "cell_type": "code",
      "metadata": {
        "id": "UrlQ7UW0jYyx",
        "outputId": "630c75a7-c6a1-4c9a-837b-fae4cd82af29",
        "colab": {
          "base_uri": "https://localhost:8080/"
        }
      },
      "source": [
        "print(array)\n",
        "print(array[:4])"
      ],
      "execution_count": 49,
      "outputs": [
        {
          "output_type": "stream",
          "name": "stdout",
          "text": [
            "[8 5 4 9 6 3]\n",
            "[8 5 4 9]\n"
          ]
        }
      ]
    },
    {
      "cell_type": "code",
      "metadata": {
        "id": "ccboltCbjfn3",
        "outputId": "8877fb90-95d6-4706-8924-48a12e6ea751",
        "colab": {
          "base_uri": "https://localhost:8080/"
        }
      },
      "source": [
        "print(array)\n",
        "print(array[2:])"
      ],
      "execution_count": 50,
      "outputs": [
        {
          "output_type": "stream",
          "name": "stdout",
          "text": [
            "[8 5 4 9 6 3]\n",
            "[4 9 6 3]\n"
          ]
        }
      ]
    },
    {
      "cell_type": "code",
      "metadata": {
        "id": "KFNh-_SFjjrR",
        "outputId": "c80d10c9-41d1-4994-e920-548aad16e7d6",
        "colab": {
          "base_uri": "https://localhost:8080/"
        }
      },
      "source": [
        "print(array)\n",
        "print(array[1:5:2])  # [start:end:step]\n",
        "print(array[::3])  # 3 step from 0 index"
      ],
      "execution_count": 52,
      "outputs": [
        {
          "output_type": "stream",
          "name": "stdout",
          "text": [
            "[8 5 4 9 6 3]\n",
            "[5 9]\n",
            "[8 9]\n"
          ]
        }
      ]
    },
    {
      "cell_type": "markdown",
      "metadata": {
        "id": "0baK6Jy7kJMP"
      },
      "source": [
        "Slicing in 2D array"
      ]
    },
    {
      "cell_type": "code",
      "metadata": {
        "id": "lUvdool2kMQZ",
        "outputId": "69837cb1-700f-40c6-9f0e-de3bd4dd9f21",
        "colab": {
          "base_uri": "https://localhost:8080/"
        }
      },
      "source": [
        "a = np.array([[2,4,8,6,5,2],[8,7,2,6,9,4]])\n",
        "print(a)"
      ],
      "execution_count": 54,
      "outputs": [
        {
          "output_type": "stream",
          "name": "stdout",
          "text": [
            "[[2 4 8 6 5 2]\n",
            " [8 7 2 6 9 4]]\n"
          ]
        }
      ]
    },
    {
      "cell_type": "code",
      "metadata": {
        "id": "oF_2auZ9keGx",
        "outputId": "e5e3b763-0962-4cb4-a460-8a2520218501",
        "colab": {
          "base_uri": "https://localhost:8080/"
        }
      },
      "source": [
        "print(a[1,1:4])  # slicing rows"
      ],
      "execution_count": 56,
      "outputs": [
        {
          "output_type": "stream",
          "name": "stdout",
          "text": [
            "[7 2 6]\n"
          ]
        }
      ]
    },
    {
      "cell_type": "code",
      "metadata": {
        "id": "UQ280S9vk1-1",
        "outputId": "c752cc5b-907c-4554-d9c5-dfa79801e8f1",
        "colab": {
          "base_uri": "https://localhost:8080/"
        }
      },
      "source": [
        "print(a[:,1:3])  # slicing column"
      ],
      "execution_count": 60,
      "outputs": [
        {
          "output_type": "stream",
          "name": "stdout",
          "text": [
            "[[4 8]\n",
            " [7 2]]\n"
          ]
        }
      ]
    }
  ]
}