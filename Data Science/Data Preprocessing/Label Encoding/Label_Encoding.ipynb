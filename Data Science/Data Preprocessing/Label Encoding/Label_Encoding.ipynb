{
  "nbformat": 4,
  "nbformat_minor": 0,
  "metadata": {
    "colab": {
      "name": "Label Encoding.ipynb",
      "provenance": []
    },
    "kernelspec": {
      "name": "python3",
      "display_name": "Python 3"
    },
    "language_info": {
      "name": "python"
    }
  },
  "cells": [
    {
      "cell_type": "code",
      "metadata": {
        "id": "JSLaxvqhbbZY"
      },
      "source": [
        "# importing the dependencies\n",
        "import pandas as pd\n",
        "import numpy as np"
      ],
      "execution_count": 18,
      "outputs": []
    },
    {
      "cell_type": "code",
      "metadata": {
        "id": "c8_dFRNj8gbc"
      },
      "source": [
        "# loading the dataset\n",
        "iris = pd.read_csv('/content/Iris.csv')"
      ],
      "execution_count": 19,
      "outputs": []
    },
    {
      "cell_type": "code",
      "metadata": {
        "colab": {
          "base_uri": "https://localhost:8080/"
        },
        "id": "Tf_ShHdh9RO6",
        "outputId": "008982dd-577c-4499-b432-bf95965c5d6b"
      },
      "source": [
        "print(iris)"
      ],
      "execution_count": 20,
      "outputs": [
        {
          "output_type": "stream",
          "name": "stdout",
          "text": [
            "      Id  SepalLengthCm  ...  PetalWidthCm         Species\n",
            "0      1            5.1  ...           0.2     Iris-setosa\n",
            "1      2            4.9  ...           0.2     Iris-setosa\n",
            "2      3            4.7  ...           0.2     Iris-setosa\n",
            "3      4            4.6  ...           0.2     Iris-setosa\n",
            "4      5            5.0  ...           0.2     Iris-setosa\n",
            "..   ...            ...  ...           ...             ...\n",
            "145  146            6.7  ...           2.3  Iris-virginica\n",
            "146  147            6.3  ...           1.9  Iris-virginica\n",
            "147  148            6.5  ...           2.0  Iris-virginica\n",
            "148  149            6.2  ...           2.3  Iris-virginica\n",
            "149  150            5.9  ...           1.8  Iris-virginica\n",
            "\n",
            "[150 rows x 6 columns]\n"
          ]
        }
      ]
    },
    {
      "cell_type": "code",
      "metadata": {
        "id": "gP5o3MXAO5PX"
      },
      "source": [
        "from sklearn.preprocessing import LabelEncoder"
      ],
      "execution_count": 21,
      "outputs": []
    },
    {
      "cell_type": "code",
      "metadata": {
        "id": "6odNKIS-PIvS"
      },
      "source": [
        "encoder = LabelEncoder()"
      ],
      "execution_count": 22,
      "outputs": []
    },
    {
      "cell_type": "code",
      "metadata": {
        "id": "xalQCYL1PNMD"
      },
      "source": [
        "category = encoder.fit_transform(iris.Species)"
      ],
      "execution_count": 23,
      "outputs": []
    },
    {
      "cell_type": "markdown",
      "metadata": {
        "id": "gB0vUojoQOMb"
      },
      "source": [
        "Labels:\n",
        "\n",
        "Iris-setosa = 0\n",
        "\n",
        "Iris-versicolor = 1\n",
        "\n",
        "Iris-virginica = 2"
      ]
    },
    {
      "cell_type": "code",
      "metadata": {
        "id": "R4Bw-w87Pgcl"
      },
      "source": [
        "iris['Label'] = category"
      ],
      "execution_count": 24,
      "outputs": []
    },
    {
      "cell_type": "code",
      "metadata": {
        "colab": {
          "base_uri": "https://localhost:8080/"
        },
        "id": "DGv5oqOcPr5R",
        "outputId": "df6d696d-0877-4067-feb9-cd0640a8e80a"
      },
      "source": [
        "print(iris)"
      ],
      "execution_count": 25,
      "outputs": [
        {
          "output_type": "stream",
          "name": "stdout",
          "text": [
            "      Id  SepalLengthCm  SepalWidthCm  ...  PetalWidthCm         Species Label\n",
            "0      1            5.1           3.5  ...           0.2     Iris-setosa     0\n",
            "1      2            4.9           3.0  ...           0.2     Iris-setosa     0\n",
            "2      3            4.7           3.2  ...           0.2     Iris-setosa     0\n",
            "3      4            4.6           3.1  ...           0.2     Iris-setosa     0\n",
            "4      5            5.0           3.6  ...           0.2     Iris-setosa     0\n",
            "..   ...            ...           ...  ...           ...             ...   ...\n",
            "145  146            6.7           3.0  ...           2.3  Iris-virginica     2\n",
            "146  147            6.3           2.5  ...           1.9  Iris-virginica     2\n",
            "147  148            6.5           3.0  ...           2.0  Iris-virginica     2\n",
            "148  149            6.2           3.4  ...           2.3  Iris-virginica     2\n",
            "149  150            5.9           3.0  ...           1.8  Iris-virginica     2\n",
            "\n",
            "[150 rows x 7 columns]\n"
          ]
        }
      ]
    },
    {
      "cell_type": "code",
      "metadata": {
        "id": "Fjnd1BoaPyVR"
      },
      "source": [
        "pd.set_option('display.max_rows',150)"
      ],
      "execution_count": 26,
      "outputs": []
    },
    {
      "cell_type": "code",
      "metadata": {
        "colab": {
          "base_uri": "https://localhost:8080/"
        },
        "id": "nGOkfz2tP92C",
        "outputId": "02bb5a02-a721-485a-bd96-9f6af99ba613"
      },
      "source": [
        "print(iris)"
      ],
      "execution_count": 27,
      "outputs": [
        {
          "output_type": "stream",
          "name": "stdout",
          "text": [
            "      Id  SepalLengthCm  SepalWidthCm  ...  PetalWidthCm          Species Label\n",
            "0      1            5.1           3.5  ...           0.2      Iris-setosa     0\n",
            "1      2            4.9           3.0  ...           0.2      Iris-setosa     0\n",
            "2      3            4.7           3.2  ...           0.2      Iris-setosa     0\n",
            "3      4            4.6           3.1  ...           0.2      Iris-setosa     0\n",
            "4      5            5.0           3.6  ...           0.2      Iris-setosa     0\n",
            "5      6            5.4           3.9  ...           0.4      Iris-setosa     0\n",
            "6      7            4.6           3.4  ...           0.3      Iris-setosa     0\n",
            "7      8            5.0           3.4  ...           0.2      Iris-setosa     0\n",
            "8      9            4.4           2.9  ...           0.2      Iris-setosa     0\n",
            "9     10            4.9           3.1  ...           0.1      Iris-setosa     0\n",
            "10    11            5.4           3.7  ...           0.2      Iris-setosa     0\n",
            "11    12            4.8           3.4  ...           0.2      Iris-setosa     0\n",
            "12    13            4.8           3.0  ...           0.1      Iris-setosa     0\n",
            "13    14            4.3           3.0  ...           0.1      Iris-setosa     0\n",
            "14    15            5.8           4.0  ...           0.2      Iris-setosa     0\n",
            "15    16            5.7           4.4  ...           0.4      Iris-setosa     0\n",
            "16    17            5.4           3.9  ...           0.4      Iris-setosa     0\n",
            "17    18            5.1           3.5  ...           0.3      Iris-setosa     0\n",
            "18    19            5.7           3.8  ...           0.3      Iris-setosa     0\n",
            "19    20            5.1           3.8  ...           0.3      Iris-setosa     0\n",
            "20    21            5.4           3.4  ...           0.2      Iris-setosa     0\n",
            "21    22            5.1           3.7  ...           0.4      Iris-setosa     0\n",
            "22    23            4.6           3.6  ...           0.2      Iris-setosa     0\n",
            "23    24            5.1           3.3  ...           0.5      Iris-setosa     0\n",
            "24    25            4.8           3.4  ...           0.2      Iris-setosa     0\n",
            "25    26            5.0           3.0  ...           0.2      Iris-setosa     0\n",
            "26    27            5.0           3.4  ...           0.4      Iris-setosa     0\n",
            "27    28            5.2           3.5  ...           0.2      Iris-setosa     0\n",
            "28    29            5.2           3.4  ...           0.2      Iris-setosa     0\n",
            "29    30            4.7           3.2  ...           0.2      Iris-setosa     0\n",
            "30    31            4.8           3.1  ...           0.2      Iris-setosa     0\n",
            "31    32            5.4           3.4  ...           0.4      Iris-setosa     0\n",
            "32    33            5.2           4.1  ...           0.1      Iris-setosa     0\n",
            "33    34            5.5           4.2  ...           0.2      Iris-setosa     0\n",
            "34    35            4.9           3.1  ...           0.1      Iris-setosa     0\n",
            "35    36            5.0           3.2  ...           0.2      Iris-setosa     0\n",
            "36    37            5.5           3.5  ...           0.2      Iris-setosa     0\n",
            "37    38            4.9           3.1  ...           0.1      Iris-setosa     0\n",
            "38    39            4.4           3.0  ...           0.2      Iris-setosa     0\n",
            "39    40            5.1           3.4  ...           0.2      Iris-setosa     0\n",
            "40    41            5.0           3.5  ...           0.3      Iris-setosa     0\n",
            "41    42            4.5           2.3  ...           0.3      Iris-setosa     0\n",
            "42    43            4.4           3.2  ...           0.2      Iris-setosa     0\n",
            "43    44            5.0           3.5  ...           0.6      Iris-setosa     0\n",
            "44    45            5.1           3.8  ...           0.4      Iris-setosa     0\n",
            "45    46            4.8           3.0  ...           0.3      Iris-setosa     0\n",
            "46    47            5.1           3.8  ...           0.2      Iris-setosa     0\n",
            "47    48            4.6           3.2  ...           0.2      Iris-setosa     0\n",
            "48    49            5.3           3.7  ...           0.2      Iris-setosa     0\n",
            "49    50            5.0           3.3  ...           0.2      Iris-setosa     0\n",
            "50    51            7.0           3.2  ...           1.4  Iris-versicolor     1\n",
            "51    52            6.4           3.2  ...           1.5  Iris-versicolor     1\n",
            "52    53            6.9           3.1  ...           1.5  Iris-versicolor     1\n",
            "53    54            5.5           2.3  ...           1.3  Iris-versicolor     1\n",
            "54    55            6.5           2.8  ...           1.5  Iris-versicolor     1\n",
            "55    56            5.7           2.8  ...           1.3  Iris-versicolor     1\n",
            "56    57            6.3           3.3  ...           1.6  Iris-versicolor     1\n",
            "57    58            4.9           2.4  ...           1.0  Iris-versicolor     1\n",
            "58    59            6.6           2.9  ...           1.3  Iris-versicolor     1\n",
            "59    60            5.2           2.7  ...           1.4  Iris-versicolor     1\n",
            "60    61            5.0           2.0  ...           1.0  Iris-versicolor     1\n",
            "61    62            5.9           3.0  ...           1.5  Iris-versicolor     1\n",
            "62    63            6.0           2.2  ...           1.0  Iris-versicolor     1\n",
            "63    64            6.1           2.9  ...           1.4  Iris-versicolor     1\n",
            "64    65            5.6           2.9  ...           1.3  Iris-versicolor     1\n",
            "65    66            6.7           3.1  ...           1.4  Iris-versicolor     1\n",
            "66    67            5.6           3.0  ...           1.5  Iris-versicolor     1\n",
            "67    68            5.8           2.7  ...           1.0  Iris-versicolor     1\n",
            "68    69            6.2           2.2  ...           1.5  Iris-versicolor     1\n",
            "69    70            5.6           2.5  ...           1.1  Iris-versicolor     1\n",
            "70    71            5.9           3.2  ...           1.8  Iris-versicolor     1\n",
            "71    72            6.1           2.8  ...           1.3  Iris-versicolor     1\n",
            "72    73            6.3           2.5  ...           1.5  Iris-versicolor     1\n",
            "73    74            6.1           2.8  ...           1.2  Iris-versicolor     1\n",
            "74    75            6.4           2.9  ...           1.3  Iris-versicolor     1\n",
            "75    76            6.6           3.0  ...           1.4  Iris-versicolor     1\n",
            "76    77            6.8           2.8  ...           1.4  Iris-versicolor     1\n",
            "77    78            6.7           3.0  ...           1.7  Iris-versicolor     1\n",
            "78    79            6.0           2.9  ...           1.5  Iris-versicolor     1\n",
            "79    80            5.7           2.6  ...           1.0  Iris-versicolor     1\n",
            "80    81            5.5           2.4  ...           1.1  Iris-versicolor     1\n",
            "81    82            5.5           2.4  ...           1.0  Iris-versicolor     1\n",
            "82    83            5.8           2.7  ...           1.2  Iris-versicolor     1\n",
            "83    84            6.0           2.7  ...           1.6  Iris-versicolor     1\n",
            "84    85            5.4           3.0  ...           1.5  Iris-versicolor     1\n",
            "85    86            6.0           3.4  ...           1.6  Iris-versicolor     1\n",
            "86    87            6.7           3.1  ...           1.5  Iris-versicolor     1\n",
            "87    88            6.3           2.3  ...           1.3  Iris-versicolor     1\n",
            "88    89            5.6           3.0  ...           1.3  Iris-versicolor     1\n",
            "89    90            5.5           2.5  ...           1.3  Iris-versicolor     1\n",
            "90    91            5.5           2.6  ...           1.2  Iris-versicolor     1\n",
            "91    92            6.1           3.0  ...           1.4  Iris-versicolor     1\n",
            "92    93            5.8           2.6  ...           1.2  Iris-versicolor     1\n",
            "93    94            5.0           2.3  ...           1.0  Iris-versicolor     1\n",
            "94    95            5.6           2.7  ...           1.3  Iris-versicolor     1\n",
            "95    96            5.7           3.0  ...           1.2  Iris-versicolor     1\n",
            "96    97            5.7           2.9  ...           1.3  Iris-versicolor     1\n",
            "97    98            6.2           2.9  ...           1.3  Iris-versicolor     1\n",
            "98    99            5.1           2.5  ...           1.1  Iris-versicolor     1\n",
            "99   100            5.7           2.8  ...           1.3  Iris-versicolor     1\n",
            "100  101            6.3           3.3  ...           2.5   Iris-virginica     2\n",
            "101  102            5.8           2.7  ...           1.9   Iris-virginica     2\n",
            "102  103            7.1           3.0  ...           2.1   Iris-virginica     2\n",
            "103  104            6.3           2.9  ...           1.8   Iris-virginica     2\n",
            "104  105            6.5           3.0  ...           2.2   Iris-virginica     2\n",
            "105  106            7.6           3.0  ...           2.1   Iris-virginica     2\n",
            "106  107            4.9           2.5  ...           1.7   Iris-virginica     2\n",
            "107  108            7.3           2.9  ...           1.8   Iris-virginica     2\n",
            "108  109            6.7           2.5  ...           1.8   Iris-virginica     2\n",
            "109  110            7.2           3.6  ...           2.5   Iris-virginica     2\n",
            "110  111            6.5           3.2  ...           2.0   Iris-virginica     2\n",
            "111  112            6.4           2.7  ...           1.9   Iris-virginica     2\n",
            "112  113            6.8           3.0  ...           2.1   Iris-virginica     2\n",
            "113  114            5.7           2.5  ...           2.0   Iris-virginica     2\n",
            "114  115            5.8           2.8  ...           2.4   Iris-virginica     2\n",
            "115  116            6.4           3.2  ...           2.3   Iris-virginica     2\n",
            "116  117            6.5           3.0  ...           1.8   Iris-virginica     2\n",
            "117  118            7.7           3.8  ...           2.2   Iris-virginica     2\n",
            "118  119            7.7           2.6  ...           2.3   Iris-virginica     2\n",
            "119  120            6.0           2.2  ...           1.5   Iris-virginica     2\n",
            "120  121            6.9           3.2  ...           2.3   Iris-virginica     2\n",
            "121  122            5.6           2.8  ...           2.0   Iris-virginica     2\n",
            "122  123            7.7           2.8  ...           2.0   Iris-virginica     2\n",
            "123  124            6.3           2.7  ...           1.8   Iris-virginica     2\n",
            "124  125            6.7           3.3  ...           2.1   Iris-virginica     2\n",
            "125  126            7.2           3.2  ...           1.8   Iris-virginica     2\n",
            "126  127            6.2           2.8  ...           1.8   Iris-virginica     2\n",
            "127  128            6.1           3.0  ...           1.8   Iris-virginica     2\n",
            "128  129            6.4           2.8  ...           2.1   Iris-virginica     2\n",
            "129  130            7.2           3.0  ...           1.6   Iris-virginica     2\n",
            "130  131            7.4           2.8  ...           1.9   Iris-virginica     2\n",
            "131  132            7.9           3.8  ...           2.0   Iris-virginica     2\n",
            "132  133            6.4           2.8  ...           2.2   Iris-virginica     2\n",
            "133  134            6.3           2.8  ...           1.5   Iris-virginica     2\n",
            "134  135            6.1           2.6  ...           1.4   Iris-virginica     2\n",
            "135  136            7.7           3.0  ...           2.3   Iris-virginica     2\n",
            "136  137            6.3           3.4  ...           2.4   Iris-virginica     2\n",
            "137  138            6.4           3.1  ...           1.8   Iris-virginica     2\n",
            "138  139            6.0           3.0  ...           1.8   Iris-virginica     2\n",
            "139  140            6.9           3.1  ...           2.1   Iris-virginica     2\n",
            "140  141            6.7           3.1  ...           2.4   Iris-virginica     2\n",
            "141  142            6.9           3.1  ...           2.3   Iris-virginica     2\n",
            "142  143            5.8           2.7  ...           1.9   Iris-virginica     2\n",
            "143  144            6.8           3.2  ...           2.3   Iris-virginica     2\n",
            "144  145            6.7           3.3  ...           2.5   Iris-virginica     2\n",
            "145  146            6.7           3.0  ...           2.3   Iris-virginica     2\n",
            "146  147            6.3           2.5  ...           1.9   Iris-virginica     2\n",
            "147  148            6.5           3.0  ...           2.0   Iris-virginica     2\n",
            "148  149            6.2           3.4  ...           2.3   Iris-virginica     2\n",
            "149  150            5.9           3.0  ...           1.8   Iris-virginica     2\n",
            "\n",
            "[150 rows x 7 columns]\n"
          ]
        }
      ]
    }
  ]
}